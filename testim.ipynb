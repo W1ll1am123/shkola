{
 "cells": [
  {
   "cell_type": "code",
   "execution_count": 13,
   "id": "f3194e7a-e4a5-434b-a702-3fe1e547df43",
   "metadata": {},
   "outputs": [],
   "source": [
    "from math import factorial, comb, perm"
   ]
  },
  {
   "cell_type": "markdown",
   "id": "8a45ebb3-a90d-4815-a523-0439b4531b19",
   "metadata": {},
   "source": [
    "Задание 1"
   ]
  },
  {
   "cell_type": "code",
   "execution_count": 14,
   "id": "b9de5cfb-33fe-4096-8916-10ddce75e622",
   "metadata": {},
   "outputs": [
    {
     "data": {
      "text/plain": [
       "20"
      ]
     },
     "execution_count": 14,
     "metadata": {},
     "output_type": "execute_result"
    }
   ],
   "source": [
    "5*4"
   ]
  },
  {
   "cell_type": "markdown",
   "id": "45c008d4-a0ae-406b-8968-91e3a69da834",
   "metadata": {},
   "source": [
    "# Задание 3"
   ]
  },
  {
   "cell_type": "markdown",
   "id": "17eeb7c9-10bd-403d-9b3d-fb5b6da3006d",
   "metadata": {},
   "source": [
    "### Считаем количество ваиантов между первой и последней цифрми"
   ]
  },
  {
   "cell_type": "code",
   "execution_count": 15,
   "id": "6b9bde44-d3fe-47ef-9b16-2bd707175026",
   "metadata": {},
   "outputs": [
    {
     "data": {
      "text/plain": [
       "10000"
      ]
     },
     "execution_count": 15,
     "metadata": {},
     "output_type": "execute_result"
    }
   ],
   "source": [
    "10**4"
   ]
  },
  {
   "cell_type": "markdown",
   "id": "7c46bd2c-2ae8-49db-b598-bb96ba3d2008",
   "metadata": {},
   "source": [
    "Умножаем на это количество на 9, ибо на 0 начинать нельзя, будет уже пятизначное число"
   ]
  },
  {
   "cell_type": "code",
   "execution_count": 16,
   "id": "36614227-07d2-4df6-b3c2-4bb27b8c87de",
   "metadata": {},
   "outputs": [
    {
     "data": {
      "text/plain": [
       "90000"
      ]
     },
     "execution_count": 16,
     "metadata": {},
     "output_type": "execute_result"
    }
   ],
   "source": [
    "10000*9"
   ]
  },
  {
   "cell_type": "markdown",
   "id": "93f023b3-c6ca-490c-90dc-b55bf7018f6f",
   "metadata": {},
   "source": [
    "# Задание 4"
   ]
  },
  {
   "cell_type": "markdown",
   "id": "7db52434-5eae-4093-a922-0272c226c85a",
   "metadata": {},
   "source": [
    "По факту это просто фактоориал 7, так как по смыслу мы просто меняем порядок 7 человек"
   ]
  },
  {
   "cell_type": "code",
   "execution_count": 17,
   "id": "ee2df509-905f-4a39-811c-21208920cdcd",
   "metadata": {},
   "outputs": [
    {
     "data": {
      "text/plain": [
       "5040"
      ]
     },
     "execution_count": 17,
     "metadata": {},
     "output_type": "execute_result"
    }
   ],
   "source": [
    "factorial(7)"
   ]
  },
  {
   "cell_type": "markdown",
   "id": "6d38b9dd-a750-42b8-b617-c4779474b9e6",
   "metadata": {},
   "source": [
    "# Задание 5"
   ]
  },
  {
   "cell_type": "markdown",
   "id": "4c4e7b0f-1ff8-4bd1-a80f-b29f279e487f",
   "metadata": {},
   "source": [
    "Здесь снова факториал, т.к. кол-во стульев = кол-во гостей, по формуле размещения 5!/(5-5)! = 5!"
   ]
  },
  {
   "cell_type": "code",
   "execution_count": 18,
   "id": "769a7bac-af63-409e-b11a-a2acd395d232",
   "metadata": {},
   "outputs": [
    {
     "data": {
      "text/plain": [
       "120"
      ]
     },
     "execution_count": 18,
     "metadata": {},
     "output_type": "execute_result"
    }
   ],
   "source": [
    "factorial(5)"
   ]
  },
  {
   "cell_type": "markdown",
   "id": "1058f4b8-465a-48ed-80cc-0aed20116ec8",
   "metadata": {},
   "source": [
    "# Задание 6"
   ]
  },
  {
   "cell_type": "markdown",
   "id": "29e257c3-e436-4be0-978c-909a595afdd0",
   "metadata": {},
   "source": [
    "Формула размещения, т.к. порядок важен `factorial(20)/factorial(17)`"
   ]
  },
  {
   "cell_type": "code",
   "execution_count": 20,
   "id": "4801ef6a-d1c1-421c-9153-2bc9cc5ed3fd",
   "metadata": {},
   "outputs": [
    {
     "data": {
      "text/plain": [
       "6840"
      ]
     },
     "execution_count": 20,
     "metadata": {},
     "output_type": "execute_result"
    }
   ],
   "source": [
    "factorial(20)//factorial(17)"
   ]
  },
  {
   "cell_type": "markdown",
   "id": "a17691b4-7179-4a8a-a957-b88c9d3a8953",
   "metadata": {},
   "source": [
    "# Задание 17"
   ]
  },
  {
   "cell_type": "markdown",
   "id": "1bb9a970-891c-4384-b49d-8fd8f63507a3",
   "metadata": {},
   "source": [
    "используем сочетания"
   ]
  },
  {
   "cell_type": "code",
   "execution_count": 25,
   "id": "00e23dde-6533-41c5-b59b-870d2f6df782",
   "metadata": {},
   "outputs": [
    {
     "data": {
      "text/plain": [
       "58905"
      ]
     },
     "execution_count": 25,
     "metadata": {},
     "output_type": "execute_result"
    }
   ],
   "source": [
    "comb(36, 4)"
   ]
  },
  {
   "cell_type": "markdown",
   "id": "751f3fd4-1593-407b-8446-b9162906952a",
   "metadata": {},
   "source": [
    "# Задание 20"
   ]
  },
  {
   "cell_type": "markdown",
   "id": "f78b6ab5-b7fe-4e01-adb1-20431cad30b1",
   "metadata": {},
   "source": [
    "а). на первую позицию идёт всё кром нуля, поэтому имеем 4 цифры на первую поизцию и 5 цирф на каждую последюущую "
   ]
  },
  {
   "cell_type": "code",
   "execution_count": 27,
   "id": "fb61798d-4dbd-4ed0-bef6-42300b917eb0",
   "metadata": {},
   "outputs": [
    {
     "data": {
      "text/plain": [
       "2500"
      ]
     },
     "execution_count": 27,
     "metadata": {},
     "output_type": "execute_result"
    }
   ],
   "source": [
    "4*5**4"
   ]
  },
  {
   "cell_type": "markdown",
   "id": "d12d2bf2-9f6d-44fc-b21c-468f94b9a1ea",
   "metadata": {},
   "source": [
    "б). на первую позицию так же идёт 4 цифры, на вторую снова 4, т.к. добавился 0 и одна цирфа уже использована на первой позиции. Далее по убыванию."
   ]
  },
  {
   "cell_type": "code",
   "execution_count": 28,
   "id": "5cb8d289-0142-4666-9f73-689850d4d108",
   "metadata": {},
   "outputs": [
    {
     "data": {
      "text/plain": [
       "96"
      ]
     },
     "execution_count": 28,
     "metadata": {},
     "output_type": "execute_result"
    }
   ],
   "source": [
    "4*4*3*2*1"
   ]
  },
  {
   "cell_type": "markdown",
   "id": "68d32206-9576-45e2-9391-291c98eda2c4",
   "metadata": {},
   "source": [
    "# Задание 19"
   ]
  },
  {
   "cell_type": "markdown",
   "id": "752d1c2a-1583-48ee-b0a2-afa183f4c4f2",
   "metadata": {},
   "source": [
    "Команд 5, надо посчитать сколько пар: 4+3+2+1 = 10 вручную, так же можно использовать сочетания:"
   ]
  },
  {
   "cell_type": "code",
   "execution_count": 29,
   "id": "764dd98c-a834-4e34-94a6-2f32fd528a3d",
   "metadata": {},
   "outputs": [
    {
     "data": {
      "text/plain": [
       "10"
      ]
     },
     "execution_count": 29,
     "metadata": {},
     "output_type": "execute_result"
    }
   ],
   "source": [
    "comb(5,2)"
   ]
  },
  {
   "cell_type": "markdown",
   "id": "ee63dd88-7f55-4808-8e3e-059d3c63d9d9",
   "metadata": {},
   "source": [
    "уможаем на 2"
   ]
  },
  {
   "cell_type": "code",
   "execution_count": 30,
   "id": "d9746252-eb97-4459-9ff0-62fc543eb1f8",
   "metadata": {},
   "outputs": [
    {
     "data": {
      "text/plain": [
       "20"
      ]
     },
     "execution_count": 30,
     "metadata": {},
     "output_type": "execute_result"
    }
   ],
   "source": [
    "10*2"
   ]
  },
  {
   "cell_type": "markdown",
   "id": "0ca56c4a-e125-472c-ae4e-462a166ebef0",
   "metadata": {},
   "source": [
    "# Заданние 21"
   ]
  },
  {
   "cell_type": "markdown",
   "id": "479f597a-7be7-47c1-b343-efb598148657",
   "metadata": {},
   "source": [
    "Считаем две комбинации и складываем 5!/2!*3! + 4!/3!*1! = 10+4 = 14"
   ]
  },
  {
   "cell_type": "code",
   "execution_count": 31,
   "id": "ec1c0501-46b9-4b52-8019-9e5f567565d3",
   "metadata": {},
   "outputs": [
    {
     "data": {
      "text/plain": [
       "14"
      ]
     },
     "execution_count": 31,
     "metadata": {},
     "output_type": "execute_result"
    }
   ],
   "source": [
    "comb(5,3)+comb(4,3)"
   ]
  },
  {
   "cell_type": "markdown",
   "id": "50233c9d-1298-43c2-8d18-5d264f8bbed2",
   "metadata": {},
   "source": [
    "# Задание 26"
   ]
  },
  {
   "cell_type": "markdown",
   "id": "366e3b32-1be5-4e86-a4d4-077c14d3d85b",
   "metadata": {},
   "source": [
    "Берем эти две книги как за одну, получаем ситуацию где @ _ _ _ _ _  (@ - это блок, а _ - это остальные книги). Ищем количесвто перестановок _, получаится 5!. Умножим 5! на 6 т.к. @ имеет 6 возможных позиций. поулчаем 6! = 720. Т.к. мы имеем по условию две определнные книги, а не блок, то умножаем на 2. Ответ: 1440"
   ]
  },
  {
   "cell_type": "code",
   "execution_count": 32,
   "id": "7a478ad6-210e-43dd-8be9-cad3d3a1ce22",
   "metadata": {},
   "outputs": [
    {
     "data": {
      "text/plain": [
       "1440"
      ]
     },
     "execution_count": 32,
     "metadata": {},
     "output_type": "execute_result"
    }
   ],
   "source": [
    "factorial(6)*2"
   ]
  },
  {
   "cell_type": "markdown",
   "id": "10dbaf76-a1f6-41c9-a2a6-60d400f83fab",
   "metadata": {},
   "source": [
    "# Задание 27"
   ]
  },
  {
   "cell_type": "code",
   "execution_count": 41,
   "id": "9e69c80c-3ec2-4f05-8b26-624788ef1cb6",
   "metadata": {},
   "outputs": [
    {
     "data": {
      "text/plain": [
       "3386880"
      ]
     },
     "execution_count": 41,
     "metadata": {},
     "output_type": "execute_result"
    }
   ],
   "source": [
    "factorial(10)-(factorial(8)*6)"
   ]
  },
  {
   "cell_type": "code",
   "execution_count": 34,
   "id": "09a71f7a-ced6-447d-91ec-3c8fc2c8fec9",
   "metadata": {},
   "outputs": [
    {
     "data": {
      "text/plain": [
       "3386880"
      ]
     },
     "execution_count": 34,
     "metadata": {},
     "output_type": "execute_result"
    }
   ],
   "source": [
    "84*factorial(8)"
   ]
  },
  {
   "cell_type": "markdown",
   "id": "ce2f8378-8d22-49a2-a696-4e4993e7176b",
   "metadata": {},
   "source": [
    "почему так? потому что я шёл от противного, я посчитал общее количство всех случаев - это 10!, и вычил неблагоприятные исходы, а именно:"
   ]
  },
  {
   "cell_type": "markdown",
   "id": "d3c179a1-d283-426a-bf08-f6db4aebf9e1",
   "metadata": {},
   "source": [
    "когда 1 5 10 тома стоят вместе - это блок, и я посчитал случаи когда эти тома вместе = 8!"
   ]
  },
  {
   "cell_type": "markdown",
   "id": "245feb33-852a-42b8-a537-2b476a37f44d",
   "metadata": {},
   "source": [
    "8! умножил на 3!, т.к. книг в блоке 3, и они тоже могут переставляться "
   ]
  },
  {
   "cell_type": "markdown",
   "id": "da01b7ac-73e6-4e11-ad59-64f50dd4fd8b",
   "metadata": {},
   "source": [
    "10! - (3! * 8!)"
   ]
  },
  {
   "cell_type": "code",
   "execution_count": 44,
   "id": "d6399b70-f950-4446-bf42-0220de86ab73",
   "metadata": {},
   "outputs": [
    {
     "data": {
      "text/plain": [
       "3386880"
      ]
     },
     "execution_count": 44,
     "metadata": {},
     "output_type": "execute_result"
    }
   ],
   "source": [
    "3386880"
   ]
  },
  {
   "cell_type": "code",
   "execution_count": null,
   "id": "70a363cb-6229-4cdd-9256-bc89ded06a52",
   "metadata": {},
   "outputs": [],
   "source": []
  }
 ],
 "metadata": {
  "kernelspec": {
   "display_name": "Python 3 (ipykernel)",
   "language": "python",
   "name": "python3"
  },
  "language_info": {
   "codemirror_mode": {
    "name": "ipython",
    "version": 3
   },
   "file_extension": ".py",
   "mimetype": "text/x-python",
   "name": "python",
   "nbconvert_exporter": "python",
   "pygments_lexer": "ipython3",
   "version": "3.13.5"
  }
 },
 "nbformat": 4,
 "nbformat_minor": 5
}
